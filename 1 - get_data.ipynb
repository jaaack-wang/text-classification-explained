{
 "cells": [
  {
   "cell_type": "code",
   "execution_count": 1,
   "id": "995c5a17",
   "metadata": {},
   "outputs": [],
   "source": [
    "# Author: Zhengxiang (Jack) Wang \n",
    "# Date: 2022-01-20\n",
    "# GitHub: https://github.com/jaaack-wang "
   ]
  },
  {
   "cell_type": "markdown",
   "id": "d48957cc",
   "metadata": {},
   "source": [
    "## ChnSentiCorp (Chinese Sentiment Corpus)\n",
    "\n",
    "In this series of tutorials, we will use `ChnSentiCorp`, a binary Chinese sentiment analysis corpus to get started with text classification. This choice is arbitrary, but choosing a Chinese corpus is due to the fact that I used an English corpus for a [text matching classification tutorial series](https://github.com/jaaack-wang/text-matching-explained).\n",
    "\n",
    "The initial paper that made this corpus is [An empirical study of sentiment analysis for chinese documents](https://ccc.inaoep.mx/~villasen/bib/An%20empirical%20study%20of%20sentiment%20analysis%20for%20chinese%20documents.pdf) by Songbo Tan & Jin Zhang (2008).\n",
    "\n",
    "The corpus used here is downloaded from [this GitHub repository](https://github.com/duanruixue/chnsenticorp). For efficiency concerns, here we use `train4000.tsv` as the train set.\n",
    "\n",
    "You can also download this corpus from huggingface at [here](https://huggingface.co/datasets/seamew/ChnSentiCorp/tree/main)."
   ]
  },
  {
   "cell_type": "markdown",
   "id": "83445aa4",
   "metadata": {},
   "source": [
    "## Load datasets"
   ]
  },
  {
   "cell_type": "code",
   "execution_count": 2,
   "id": "d778465a",
   "metadata": {},
   "outputs": [],
   "source": [
    "def load_dataset(fpath, num_row_to_skip=1):\n",
    "    data = open(fpath)\n",
    "    for _ in range(num_row_to_skip):\n",
    "        next(data)\n",
    "    for line in data:\n",
    "        line = line.split('\\t')\n",
    "        yield line[1].rstrip(), int(line[0])"
   ]
  },
  {
   "cell_type": "code",
   "execution_count": 3,
   "id": "742c62b9",
   "metadata": {},
   "outputs": [
    {
     "name": "stdout",
     "output_type": "stream",
     "text": [
      "Train set size: 4000\n",
      "Dev set size: 1200\n",
      "Test set size: 1200\n"
     ]
    }
   ],
   "source": [
    "train = list(load_dataset('train.tsv'))\n",
    "dev = list(load_dataset('dev.tsv'))\n",
    "test = list(load_dataset('test.tsv'))\n",
    "\n",
    "print(\"Train set size:\", len(train))\n",
    "print(\"Dev set size:\", len(dev))\n",
    "print(\"Test set size:\", len(test))"
   ]
  },
  {
   "cell_type": "markdown",
   "id": "e302e687",
   "metadata": {},
   "source": [
    "## Corpus statistics"
   ]
  },
  {
   "cell_type": "code",
   "execution_count": 4,
   "id": "b5f1d353",
   "metadata": {},
   "outputs": [],
   "source": [
    "def pos_neg_stat(dataset):\n",
    "    total = len(dataset)\n",
    "    pos = sum([d[1] for d in dataset])\n",
    "    return {\"pos\": pos, \"neg\": total-pos}"
   ]
  },
  {
   "cell_type": "code",
   "execution_count": 5,
   "id": "d9f43bef",
   "metadata": {},
   "outputs": [
    {
     "name": "stdout",
     "output_type": "stream",
     "text": [
      "Train set stat: {'pos': 2009, 'neg': 1991}\n",
      "Dev set stat: {'pos': 590, 'neg': 610}\n",
      "Test set stat: {'pos': 602, 'neg': 598}\n"
     ]
    }
   ],
   "source": [
    "print(\"Train set stat:\", pos_neg_stat(train))\n",
    "print(\"Dev set stat:\", pos_neg_stat(dev))\n",
    "print(\"Test set stat:\", pos_neg_stat(test))"
   ]
  }
 ],
 "metadata": {
  "kernelspec": {
   "display_name": "Python 3 (ipykernel)",
   "language": "python",
   "name": "python3"
  },
  "language_info": {
   "codemirror_mode": {
    "name": "ipython",
    "version": 3
   },
   "file_extension": ".py",
   "mimetype": "text/x-python",
   "name": "python",
   "nbconvert_exporter": "python",
   "pygments_lexer": "ipython3",
   "version": "3.9.6"
  }
 },
 "nbformat": 4,
 "nbformat_minor": 5
}
